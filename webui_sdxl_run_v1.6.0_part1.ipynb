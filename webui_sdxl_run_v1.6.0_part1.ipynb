{
 "cells": [
  {
   "cell_type": "markdown",
   "metadata": {
    "id": "D4U-zSJ0PesD"
   },
   "source": [
    "[![Open in SageMaker Studio Lab](https://studiolab.sagemaker.aws/studiolab.svg)](https://studiolab.sagemaker.aws/import/github/koya-jp/AA-google-colab-kohya/blob/master/webui_sdxl_run_v1.6.0.ipynb)"
   ]
  },
  {
   "cell_type": "markdown",
   "metadata": {
    "id": "2Bf_6pt0PesU",
    "tags": []
   },
   "source": [
    "#### ***Python3.10.6 環境の用意 （ターミナルで実行）***"
   ]
  },
  {
   "cell_type": "code",
   "execution_count": null,
   "metadata": {},
   "outputs": [],
   "source": [
    "conda create -y --name sd_env python=3.10.6\n",
    "conda activate sd_env\n",
    "conda install -y ipykernel"
   ]
  },
  {
   "cell_type": "markdown",
   "metadata": {
    "id": "yXG2Yh52PesJ",
    "tags": []
   },
   "source": [
    "#### ***環境構築***"
   ]
  },
  {
   "cell_type": "code",
   "execution_count": null,
   "metadata": {
    "id": "AW38z7jHPesN",
    "tags": []
   },
   "outputs": [],
   "source": [
    "# ホームディレクトリに移動\n",
    "%cd /home/studio-lab-user/\n",
    "\n",
    "# Python のバージョンを確認\n",
    "!python -V\n",
    "\n",
    "# 必要なパッケージをインストール\n",
    "%conda install -y aria2\n",
    "%conda install -y -c conda-forge libglib\n",
    "\n",
    "# stable diffusion webuiのインストール\n",
    "!git clone https://github.com/AUTOMATIC1111/stable-diffusion-webui /home/studio-lab-user/ui\n",
    "\n",
    "#v1.６.0 を使用\n",
    "%cd /home/studio-lab-user/ui\n",
    "!git checkout 5ef669de080814067961f28357256e8fe27544f4"
   ]
  },
  {
   "cell_type": "code",
   "execution_count": null,
   "metadata": {
    "tags": []
   },
   "outputs": [],
   "source": [
    "# stable diffusion webuiをアップデートする場合実行\n",
    "%cd /home/studio-lab-user/ui\n",
    "!git pull"
   ]
  },
  {
   "cell_type": "markdown",
   "metadata": {
    "id": "pBzfMCFQPesO",
    "tags": []
   },
   "source": [
    "#### ***Model, VAE***"
   ]
  },
  {
   "cell_type": "code",
   "execution_count": null,
   "metadata": {
    "id": "SaAJk33ppFw1",
    "tags": []
   },
   "outputs": [
    {
     "name": "stdout",
     "output_type": "stream",
     "text": [
      "\u001b[35m[\u001b[0m#5bd2b6 6.4GiB/6.4GiB\u001b[36m(99%)\u001b[0m CN:12 DL:\u001b[32m344MiB\u001b[0m\u001b[35m]\u001b[0m\u001b[0m0m\u001b[35m]\u001b[0m\u001b[0mm"
     ]
    }
   ],
   "source": [
    "# lode_mode=\"aria2c --console-log-level=error -c -x 16 -s 16 -k 1M\"\n",
    "\n",
    "# # Modelのディレクトリを定義\n",
    "# model_dir=\"/home/studio-lab-user/ui/models/Stable-diffusion\"\n",
    "\n",
    "# # SDXL Model をインストール - リアル系\n",
    "# !aria2c --console-log-level=error -c -x 16 -s 16 -k 1M https://civitai.com/api/download/models/161009 -d {model_dir} -o CherryPickerXL26.safetensors\n",
    "\n",
    "# # SDXL - アニメ系\n",
    "# # !aria2c --console-log-level=error -c -x 16 -s 16 -k 1M https://civitai.com/api/download/models/155870 -d {model_dir} -o sdvn7Nijistylexl_v1.safetensors\n",
    "\n",
    "# # VAEのディレクトリを定義\n",
    "# vae_dir=\"/home/studio-lab-user/ui/models/VAE\"\n",
    "# !{lode_mode} https://huggingface.co/ckpt/sdxl_vae/resolve/main/sdxl_vae.safetensors -d {vae_dir} -o sdxl_vae.vae.safetensors\n",
    "# # !{lode_mode} https://huggingface.co/okozk/custom_models/resolve/main/vae_mse_840000_ema_semi.pt -d {vae_dir} -o vae_mse_840000_ema_semi.vae.pt\n",
    "\n",
    "# # 確認\n",
    "# !echo -= model_dir を確認 =- && ls -l {model_dir}\n",
    "# !echo -= vae_dir を確認 =- && ls -l {vae_dir}\n",
    "# !echo -= 空き容量 を確認 =- && df -h"
   ]
  },
  {
   "cell_type": "markdown",
   "metadata": {
    "id": "a2eUKRpxPesR",
    "tags": []
   },
   "source": [
    "#### ***Lora、embedings***"
   ]
  },
  {
   "cell_type": "code",
   "execution_count": null,
   "metadata": {
    "id": "buEhO90kPesS",
    "tags": []
   },
   "outputs": [],
   "source": [
    "# lode_mode=\"aria2c --console-log-level=error -c -x 16 -s 16 -k 1M\"\n",
    "# !rm -rf /home/studio-lab-user/.cache #⭐キャッシュの削除\n",
    "# lora_dir=\"/home/studio-lab-user/ui/models/Lora\" \n",
    "# embeddings_dir=\"/home/studio-lab-user/ui/embeddings\"\n",
    "\n",
    "# # lora ######################################################################\n",
    "# !rm -rf {lora_dir}/* #⭐リセット\n",
    "# !{lode_mode} https://civitai.com/api/download/models/160240 -d {lora_dir} -o NsfwPovAllInOneLoraSdxl.safetensors\n",
    "# !{lode_mode} https://civitai.com/api/download/models/134909 -d {lora_dir} -o japanese-girl-sdxl.safetensors\n",
    "# # !{lode_mode} https://civitai.com/api/download/models/146585 -d {lora_dir} -o sailor_senshi_uniform_xl-v1.safetensors\n",
    "# !{lode_mode} https://civitai.com/api/download/models/155932 -d {lora_dir} -o ClearHand-V2.safetensors\n",
    "# !{lode_mode} https://civitai.com/api/download/models/131364 -d {lora_dir} -o ahegao_sdxl_v1.safetensors\n",
    "# !{lode_mode} https://civitai.com/api/download/models/152713 -d {lora_dir} -o wet_Tshirts_SDXL.safetensors\n",
    "# # !{lode_mode} https://civitai.com/api/download/models/121538 -d {lora_dir} -o watercolor-style.safetensors\n",
    "# # !{lode_mode} https://civitai.com/api/download/models/136749 -d {lora_dir} -o ChibiStyleXL.safetensors\n",
    "# # !{lode_mode} https://civitai.com/api/download/models/138938 -d {lora_dir} -o Linear-Manga-Style.safetensors\n",
    "# # !{lode_mode} https://civitai.com/api/download/models/131266 -d {lora_dir} -o JOJO-Style.safetensors\n",
    "# # !{lode_mode} https://civitai.com/api/download/models/137124 -d {lora_dir} -o DreamART-Style.safetensors\n",
    "# # !{lode_mode} https://civitai.com/api/download/models/126807 -d {lora_dir} -o Photorealistic-Slider.safetensors\n",
    "# # !{lode_mode} https://civitai.com/api/download/models/127510 -d {lora_dir} -o greg_rutkowski_xl_2.safetensors\n",
    "# # !{lode_mode} https://civitai.com/api/download/models/118427 -d {lora_dir} -o perfect-eyes-xl.safetensors\n",
    "# !{lode_mode} https://civitai.com/api/download/models/62833 -d {lora_dir} -o detail-tweaker-xl.safetensors\n",
    "\n",
    "# # embedings ######################################################################\n",
    "# # !rm -rf {embeddings_dir}/* #⭐リセット\n",
    "# !{lode_mode} https://huggingface.co/okozk/ComfyUI/resolve/main/unaestheticXLv13.safetensors -d {embeddings_dir} -o unaestheticXLv13.safetensors # 美しさ\n",
    "# !{lode_mode} https://civitai.com/api/download/models/134424 -d {embeddings_dir} -o unaestheticX-NegL.safetensors # Flat2 のように使う\n",
    "# !{lode_mode} https://civitai.com/api/download/models/134583 -d {embeddings_dir} -o negativeXL_D.safetensors # 露出度のネガティブ 0.5 ~ 0.7 くらいで普通。\n",
    "# !{lode_mode} https://civitai.com/api/download/models/139645 -d {embeddings_dir} -o peopleneg.safetensors # 人間のネガティブな特徴を学習。実写用\n",
    "# !{lode_mode} https://civitai.com/api/download/models/128882 -d {embeddings_dir} -o SimplepositiveXLv1.safetensors # Simpleなポジティブ要素\n",
    "\n",
    "# # 確認 ######################################################################\n",
    "# !echo -= lora_dir を確認 =- && ls -l {lora_dir}\n",
    "# !echo -= embeddings_dir を確認 =- && ls -l {embeddings_dir}\n",
    "# !echo -= 空き容量 を確認 =- && df -h"
   ]
  },
  {
   "cell_type": "markdown",
   "metadata": {
    "id": "OMVpsGOsPesS",
    "tags": []
   },
   "source": [
    "#### ***拡張機能の設定、ControlNet Models のインストール***"
   ]
  },
  {
   "cell_type": "code",
   "execution_count": null,
   "metadata": {
    "id": "95FfvzMyPesS",
    "tags": []
   },
   "outputs": [],
   "source": [
    "# # 各ディテクトリ\n",
    "# base_dir=\"/home/studio-lab-user/ui\"\n",
    "# extensions_dir = base_dir + \"/extensions\"\n",
    "# ctn_model_dir = base_dir + \"/models/ControlNet\"\n",
    "# lode_mode=\"aria2c --console-log-level=error -c -x 16 -s 16 -k 1M\"\n",
    "\n",
    "\n",
    "# # 拡張機能の追加 ######################################################################\n",
    "# !rm -rf {extensions_dir}/* #⭐リセット\n",
    "\n",
    "#  #⭐削除したいファイルを入力\n",
    "# %cd {extensions_dir}\n",
    "# !rm -rf sd_lama_cleaner controlnet　wd14-tagger rembg depth-lib two-shot photopea-embed multidiffusion-upscaler model-toolkit haku-img cutoff Config-Presets  Styles-Editor\n",
    "\n",
    "# # インストール\n",
    "# # !git clone https://github.com/camenduru/sd-civitai-browser {extensions_dir}/civitai-browser\n",
    "# !git clone https://github.com/AlUlkesh/stable-diffusion-webui-images-browser {extensions_dir}/images-browser\n",
    "# !git clone https://github.com/zanllp/sd-webui-infinite-image-browsing {extensions_dir}/infinite-image-browsing\n",
    "# !git clone https://github.com/Mikubill/sd-webui-controlnet {extensions_dir}/controlnet\n",
    "# !git clone https://github.com/IDEA-Research/DWPose {extensions_dir}/DWPose\n",
    "# !git clone https://github.com/anonCantCode/sd-webui-send-to-controlnet {extensions_dir}/send-to-controlnet\n",
    "# # !git clone https://github.com/jexom/sd-webui-depth-lib {extensions_dir}/depth-lib\n",
    "# !git clone https://github.com/richrobber2/canvas-zoom {extensions_dir}/canvas-zoom\n",
    "# !git clone https://github.com/huchenlei/sd-webui-openpose-editor {extensions_dir}/openpose-editor\n",
    "# # !git clone https://github.com/fkunn1326/openpose-editor {extensions_dir}/openpose-editor\n",
    "# # !git clone https://github.com/hnmr293/posex {extensions_dir}/posex\n",
    "# # !git clone https://github.com/nonnonstop/sd-webui-3d-open-pose-editor {extensions_dir}/3d-open-pose-editor\n",
    "# # !git clone https://github.com/camenduru/tunnels {extensions_dir}/tunnels\n",
    "# # !git clone https://github.com/etherealxx/batchlinks-webui {extensions_dir}/batchlinks-webui\n",
    "# # !git clone https://github.com/catppuccin/stable-diffusion-webui {extensions_dir}/catppuccin\n",
    "# !git clone https://github.com/Haoming02/sd-webui-prompt-format {extensions_dir}/prompt-format\n",
    "# # !git clone https://github.com/eideehi/sd-webui-better-prompt {extensions_dir}/better-prompt\n",
    "# !git clone https://github.com/DominikDoom/a1111-sd-webui-tagcomplete {extensions_dir}/tagcomplete\n",
    "# # !git clone https://github.com/chrisgoringe/Styles-Editor {extensions_dir}/Styles-Editor\n",
    "# # !git clone https://github.com/opparco/stable-diffusion-webui-two-shot {extensions_dir}/two-shot\n",
    "# # !git clone https://github.com/bbc-mc/sdweb-clip-changer {extensions_dir}/clip-changer\n",
    "# # !git clone https://github.com/hnmr293/sd-webui-cutoff {extensions_dir}/cutoff\n",
    "# # !git clone https://github.com/toriato/stable-diffusion-webui-wd14-tagger {extensions_dir}/wd14-tagger\n",
    "# !git clone https://github.com/Bing-su/adetailer {extensions_dir}/adetailer\n",
    "# # !git clone https://github.com/pkuliyi2015/multidiffusion-upscaler-for-automatic1111 {extensions_dir}/multidiffusion-upscaler\n",
    "# !git clone https://github.com/alemelis/sd-webui-ar {extensions_dir}/sd-webui-ar\n",
    "# # !git clone https://github.com/Zyin055/Config-Presets {extensions_dir}/Config-Presets\n",
    "# # !git clone https://github.com/KohakuBlueleaf/a1111-sd-webui-haku-img  {extensions_dir}/haku-img\n",
    "# # !git clone https://github.com/yankooliveira/sd-webui-photopea-embed  {extensions_dir}/photopea-embed\n",
    "# # !git clone https://github.com/arenasys/stable-diffusion-webui-model-toolkit {extensions_dir}/model-toolkit\n",
    "# # !git clone https://github.com/aka7774/sd_katanuki {extensions_dir}/sd_katanuki\n",
    "# # !git clone https://github.com/AUTOMATIC1111/stable-diffusion-webui-rembg {extensions_dir}/rembg\n",
    "# !git clone https://github.com/ljleb/sd-webui-freeu {extensions_dir}/freeu\n",
    "# # !git clone https://github.com/aka7774/sd_lama_cleaner {extensions_dir}/sd_lama_cleaner\n",
    "\n",
    "\n",
    "# # リセット\n",
    "# !git -C /home/studio-lab-user/ui/extensions reset --hard\n",
    "# !git -C /home/studio-lab-user/ui/repositories/stable-diffusion-stability-ai reset --hard\n",
    "# # %cd {extensions_dir}/prompt-all-in-one\n",
    "# # !git checkout a46e7f24a9aa4817a6fe81647aa2c85be096f72b\n",
    "\n",
    "# # sd-webui-ar の拡張機能に SDXL の推奨サイズを書き込み\n",
    "# %cd {extensions_dir}\n",
    "# f = open(\"/home/studio-lab-user/ui/extensions/sd-webui-ar/resolutions.txt\", \"w\")\n",
    "# text = \"\"\"1, 1024, 1024 # 1:1 Square\n",
    "# 2, 886, 1182 # 3:4 Photo\n",
    "# 3, 836, 1254 # 2:3 Landscape\n",
    "# 4, 768, 1344 # 9:16 Vertical\"\"\"\n",
    "# f.write(text)\n",
    "# f.close()\n",
    "\n",
    "# # wd14-tagger のエラー対策（コミット → 99bf7d8132cb757edbcdfaad654f31f32f3500a5）\n",
    "# !sed -i -e 's/from webui import wrap_gradio_gpu_call/from modules.call_queue import wrap_gradio_gpu_call/g' /home/studio-lab-user/ui/extensions/wd14-tagger/tagger/ui.py\n",
    "# !sed -i -e 's/from modules.shared import models_path/import argparse\\nimport os\\n\\nmodules_path = os.path.dirname(os.path.realpath(__file__))\\n\\nparser_pre = argparse.ArgumentParser(add_help=False)\\nparser_pre.add_argument(\"--data-dir\", type=str, default=os.path.dirname(modules_path), help=\"base path where all user data is stored\", )\\ncmd_opts_pre = parser_pre.parse_known_args()[0]\\ndata_path = cmd_opts_pre.data_dir\\n\\nmodels_path = os.path.join(data_path, \"models\")/g' /home/studio-lab-user/ui/extensions/wd14-tagger/preload.py\n",
    "\n",
    "\n",
    "# # SDXL対応版 ControlNetのモデルの追加 ######################################################################\n",
    "# # !rm -rf {ctn_model_dir}/* #⭐リセット\n",
    "#  #⭐削除したいファイルを入力\n",
    "# %cd {ctn_model_dir}\n",
    "# !rm -rf ip-adapter_xl.pth t2i-adapter_diffusers_xl_lineart.safetensors control-lora-canny-rank256.safetensors ip-adapter_xl.pth\n",
    "# # インストール\n",
    "# !{lode_mode} https://huggingface.co/ckpt/controlnet-sdxl-1.0/resolve/main/control-lora-canny-rank256.safetensors -d {ctn_model_dir} -o control-lora-canny-rank256.safetensors\n",
    "# !{lode_mode} https://huggingface.co/ckpt/controlnet-sdxl-1.0/resolve/main/control-lora-depth-rank256.safetensors -d {ctn_model_dir} -o control-lora-depth-rank256.safetensors\n",
    "# # !{lode_mode} https://huggingface.co/ckpt/controlnet-sdxl-1.0/resolve/main/control-lora-recolor-rank256.safetensors -d {ctn_model_dir} -o control-lora-recolor-rank256.safetensors\n",
    "# # !{lode_mode} https://huggingface.co/ckpt/controlnet-sdxl-1.0/resolve/main/control-lora-sketch-rank256.safetensors -d {ctn_model_dir} -o control-lora-sketch-rank256.safetensors\n",
    "# !{lode_mode} https://huggingface.co/lllyasviel/sd_control_collection/resolve/main/thibaud_xl_openpose_256lora.safetensors -d {ctn_model_dir} -o thibaud_xl_openpose_256lora.safetensors\n",
    "# # !{lode_mode} https://huggingface.co/lllyasviel/sd_control_collection/resolve/main/ip-adapter_xl.pth -d {ctn_model_dir} -o ip-adapter_xl.pth\n",
    "# # !{lode_mode} https://huggingface.co/lllyasviel/sd_control_collection/resolve/main/sargezt_xl_softedge.safetensors -d {ctn_model_dir} -o sargezt_xl_softedge.safetensors #2.5GB\n",
    "\n",
    "\n",
    "# # 確認 ######################################################################\n",
    "# !echo -= extensions_dir を確認 =- && ls -l {extensions_dir}\n",
    "# !echo -= ctn_model_dir を確認 =- && ls -l {ctn_model_dir}\n",
    "# !echo -= 空き容量 を確認 =- && df -h"
   ]
  },
  {
   "cell_type": "markdown",
   "metadata": {
    "id": "RUMktDrzPesV",
    "tags": []
   },
   "source": [
    "#### ***⭐ 実行 ----------------------------------------------------------------------------***"
   ]
  },
  {
   "cell_type": "code",
   "execution_count": null,
   "metadata": {
    "id": "FsTN3ACUPesV",
    "tags": []
   },
   "outputs": [],
   "source": [
    "%cd /home/studio-lab-user/ui\n",
    "ngrok_token=\"2SOs8DsoZvkiDNBFjisetiIZJqu_7XBuj79rA4yeX3Bxas3Dc\"\n",
    "# ngrok_token=\"2TCe00p0TQxg6LmLDGuAORTEcIT_3qnSyRRXoqDg26HQrwG7H\"\n",
    "ARGS = \"\\\"--listen --xformers --enable-insecure-extension-access --gradio-queue --no-half-vae --ngrok \" + ngrok_token + \"\\\"\"\n",
    "!COMMANDLINE_ARGS=$ARGS python launch.py"
   ]
  },
  {
   "cell_type": "markdown",
   "metadata": {
    "id": "CYMWBdUSPesV",
    "jp-MarkdownHeadingCollapsed": true,
    "tags": []
   },
   "source": [
    "#### ***画像生成 の結果をZipにする***"
   ]
  },
  {
   "cell_type": "code",
   "execution_count": null,
   "metadata": {
    "id": "2WuNEg1WPesV",
    "tags": []
   },
   "outputs": [],
   "source": [
    "# 画像生成 の結果をZipにする。100件以上のフォルダは、100件ごとにZipにする。\n",
    "\n",
    "import os\n",
    "import glob\n",
    "import datetime\n",
    "import zipfile\n",
    "import shutil\n",
    "\n",
    "# 今日日付を取得\n",
    "today = datetime.datetime.now().strftime(\"%Y%m%d_%H%M%S\")\n",
    "\n",
    "# 圧縮したい画像のパス\n",
    "# 画像のパス\n",
    "img_paths = [f\"/home/studio-lab-user/ui/outputs/{folder}\" for folder in [\"txt2img-images\", \"txt2img-grids\", \"img2img-images\", \"img2img-grids\", \"extras-images\"]]\n",
    "\n",
    "# ZIPファイルのパス\n",
    "zip_paths = [f\"/home/studio-lab-user/outputs_{folder}_{today}.zip\" for folder in [\"txt2img-images\", \"txt2img-grids\", \"img2img-images\", \"img2img-grids\", \"extras-images\"]]\n",
    "\n",
    "# 移動対象のフォルダのパス\n",
    "move_paths = [f\"{img_path}/*\" for img_path in img_paths]\n",
    "\n",
    "# 不要なフォルダのパス\n",
    "delete_paths = [f\"/home/studio-lab-user/Delete/{folder}/{today}\" for folder in [\"txt2img-images\", \"txt2img-grids\", \"img2img-images\", \"img2img-grids\", \"extras-images\"]]\n",
    "\n",
    "\n",
    "# ZIPファイルに圧縮する関数\n",
    "def zip_files(img_path, zip_path):\n",
    "    with zipfile.ZipFile(zip_path, \"w\", zipfile.ZIP_DEFLATED) as zf:\n",
    "        # サブフォルダとファイルの全てのパスを取得\n",
    "        for root, dirs, files in os.walk(img_path):\n",
    "            for file in files:\n",
    "                # ZIPファイルに書き込むパスを相対パスにする\n",
    "                rel_path = os.path.relpath(os.path.join(root, file), img_path)\n",
    "                # ZIPファイルに書き込む\n",
    "                zf.write(os.path.join(root, file), rel_path)\n",
    "\n",
    "\n",
    "# img_pathのファイル数が50以上あれば、1, 2のような名前でフォルダを作って、100件ずつ移動させる関数\n",
    "def split_files(img_path):\n",
    "    # img_pathのファイル数を取得\n",
    "    file_count = len(os.listdir(img_path))\n",
    "\n",
    "    # ファイル数が50以上ならば\n",
    "    if file_count > 50:\n",
    "        # フォルダの番号を初期化\n",
    "        folder_num = 1\n",
    "        # ファイルのリストを取得\n",
    "        file_list = os.listdir(img_path)\n",
    "        # ファイルのリストを100件ずつに分割\n",
    "        file_chunks = [file_list[i:i+50] for i in range(0, file_count, 50)]\n",
    "        # 分割したファイルのリストごとに処理\n",
    "        for file_chunk in file_chunks:\n",
    "            # フォルダの名前を作成\n",
    "            folder_name = str(folder_num)\n",
    "            # フォルダのパスを作成\n",
    "            folder_path = os.path.join(img_path, \"zip_\"+folder_name)\n",
    "            # フォルダがなければ作成\n",
    "            if not os.path.exists(folder_path):\n",
    "                os.makedirs(folder_path)\n",
    "            # フォルダにファイルを移動\n",
    "            for file in file_chunk:\n",
    "                file_path = os.path.join(img_path, file)\n",
    "                shutil.move(file_path, folder_path)\n",
    "            # フォルダの番号を更新\n",
    "            folder_num += 1\n",
    "\n",
    "\n",
    "# 画像のパスとZIPファイルのパスのペアごとに圧縮と移動を行う関数\n",
    "def zip_and_move(img_path, zip_path, move_path, delete_path):\n",
    "    # 画像のパスに何もフォルダやファイルがなければスキップする\n",
    "    if len(os.listdir(img_path)) == 0:\n",
    "        return\n",
    "\n",
    "    # img_pathのファイル数が100以上あれば、1, 2のような名前でフォルダを作って、100件ずつ移動させる関数を呼び出す\n",
    "    split_files(img_path)\n",
    "\n",
    "    # img_pathのサブフォルダのリストを取得\n",
    "    subfolder_list = os.listdir(img_path)\n",
    "\n",
    "    # サブフォルダのリストごとに処理\n",
    "    for subfolder in subfolder_list:\n",
    "        # サブフォルダのパスを作成\n",
    "        subfolder_path = os.path.join(img_path, subfolder)\n",
    "        # Zipファイルの名前を作成（末尾にサブフォルダの名前を付け足す）\n",
    "        zip_name = zip_path[:-4] + \"_\" + subfolder + \".zip\"\n",
    "        # Zipファイルに圧縮する関数を呼び出す\n",
    "        zip_files(subfolder_path, zip_name)\n",
    "\n",
    "    # 移動先のディレクトリがなければ作成する\n",
    "    if not os.path.exists(delete_path):\n",
    "        os.makedirs(delete_path)\n",
    "\n",
    "    # ワイルドカードにマッチするパスのリストを取得\n",
    "    move_list = glob.glob(move_path)\n",
    "\n",
    "    # 移動を実行\n",
    "    for file in move_list:\n",
    "        shutil.move(file, delete_path)\n",
    "\n",
    "    print(img_path)\n",
    "    !ls {img_path}\n",
    "\n",
    "\n",
    "# 容量の整理\n",
    "!rm -rf /home/studio-lab-user/.cache # キャッシュの削除\n",
    "\n",
    "# 画像のパスとZIPファイルのパスのペアごとに圧縮と移動を行う\n",
    "for img_path, zip_path, move_path, delete_path in zip(img_paths, zip_paths, move_paths, delete_paths):\n",
    "    zip_and_move(img_path, zip_path, move_path, delete_path)\n",
    "\n",
    "# 予備\n",
    "# today = datetime.datetime.now().strftime(\"%Y%m%d_%H%M%S\")\n",
    "# zip_path = f\"/home/studio-lab-user/outputs-{today}.zip\"\n",
    "# img_path = \"Delete/txt2img-images/20230816_130141/2023-08-16/2\"\n",
    "# zip_files(\"/home/studio-lab-user/\"+img_path,zip_path)"
   ]
  },
  {
   "cell_type": "markdown",
   "metadata": {
    "id": "LSuYhcrePesW",
    "jp-MarkdownHeadingCollapsed": true,
    "tags": []
   },
   "source": [
    "#### ***容量の整理***"
   ]
  },
  {
   "cell_type": "code",
   "execution_count": null,
   "metadata": {
    "id": "UbIkXInaPesW",
    "tags": []
   },
   "outputs": [],
   "source": [
    "# 容量の確認\n",
    "!df -h\n",
    "!free -h\n",
    "%cd ~\n",
    "!ls -a .bashrc .config .ipython .jupyter .local .ngrok2 .nv .sagemaker .virtual_documents .wget-hsts"
   ]
  },
  {
   "cell_type": "code",
   "execution_count": null,
   "metadata": {
    "id": "tmJatcmiPesW",
    "tags": []
   },
   "outputs": [],
   "source": [
    "# 容量の整理\n",
    "!rm -rf /home/studio-lab-user/.ipynb_checkpoints\n",
    "!rm -rf /home/studio-lab-user/.cache # キャッシュの削除\n",
    "!rm -rf /home/studio-lab-user/.virtual_documents \n",
    "!rm -rf /home/studio-lab-user/.nv \n",
    "# !rm -rf /home/studio-lab-user/.conda #リセット（環境を作りなおすなら実行）\n",
    "!ls -la /home/studio-lab-user/\n",
    "!df -h"
   ]
  },
  {
   "cell_type": "code",
   "execution_count": null,
   "metadata": {
    "id": "hyMor96tPesW",
    "tags": []
   },
   "outputs": [],
   "source": [
    "# model-toolkitで軽量化したモデルを Hugging face にアップロードする\n",
    "Model_Directory=\"/home/studio-lab-user/ui/models/VAE\" # 対象のディレクトリ\n",
    "File_Name=\"vae-ft-mse-840000-ema-pruned.vae-0869.vae.pt\" # 対象のファイル\n",
    "\n",
    "HF_File_Name = \"vae_mse_840000_ema_semi.pt\" # Hugging face のファイル名\n",
    "User_Repository =\"Hugging face のリポジトリ名\"  # Hugging face のリポジトリ名\n",
    "\n",
    "Upload_File = Model_Directory + \"/\" + File_Name\n",
    "Token = \"Hugging face トークン\" #Hugging face トークン\n",
    "\n",
    "%cd {Model_Directory}\n",
    "\n",
    "# アップロード\n",
    "from huggingface_hub import upload_file\n",
    "upload_file(path_or_fileobj=Upload_File, path_in_repo=HF_File_Name, repo_id=User_Repository, token=Token)"
   ]
  },
  {
   "cell_type": "markdown",
   "metadata": {
    "id": "2Bf_6pt0PesU",
    "jp-MarkdownHeadingCollapsed": true,
    "tags": []
   },
   "source": [
    "#### ***sd_katanuki の準備（LoRA学習用画像等に使用）***"
   ]
  },
  {
   "cell_type": "code",
   "execution_count": null,
   "metadata": {
    "id": "ExMFDoOePesU",
    "tags": []
   },
   "outputs": [],
   "source": [
    "# sd_katanuki の結果をZipにする\n",
    "%cd /home/studio-lab-user\n",
    "\n",
    "# 今日日付を取得\n",
    "import datetime\n",
    "today = datetime.datetime.now().strftime(\"%Y%m%d_%H%M%S\")\n",
    "\n",
    "# Deleteフォルダが無ければ作成\n",
    "delete_folder = \"/home/studio-lab-user/Delete\"\n",
    "if not os.path.exists(delete_folder):\n",
    "    os.makedirs(delete_folder)\n",
    "\n",
    "# 作成したファイルを移動してZipする。\n",
    "!tar -czf /home/studio-lab-user/sd_katanuki_out_{today}.tar.gz sd_katanuki_out\n",
    "!mv /home/studio-lab-user/sd_katanuki_in /home/studio-lab-user/Delete/sd_katanuki_in_{today}\n",
    "!mv /home/studio-lab-user/sd_katanuki_out /home/studio-lab-user/Delete/sd_katanuki_out_{today}\n",
    "!mv /home/studio-lab-user/katanuki.zip /home/studio-lab-user/Delete/katanuki_{today}.zip"
   ]
  },
  {
   "cell_type": "code",
   "execution_count": null,
   "metadata": {
    "id": "9cge9y2iPesU",
    "tags": []
   },
   "outputs": [],
   "source": [
    "# sd_katanuki のフォルダを用意 ⭐ train-images.zip を用意しておく\n",
    "!mkdir /home/studio-lab-user/sd_katanuki_in\n",
    "!mkdir /home/studio-lab-user/sd_katanuki_out\n",
    "!unzip -d /home/studio-lab-user/sd_katanuki_in /home/studio-lab-user/katanuki.zip > /dev/null\n",
    "!rm -rf /home/studio-lab-user/sd_katanuki_in/__MACOSX\n",
    "\n",
    "# 確認\n",
    "!ls /home/studio-lab-user/sd_katanuki_in # | wc -l"
   ]
  }
 ],
 "metadata": {
  "accelerator": "GPU",
  "colab": {
   "private_outputs": true,
   "provenance": []
  },
  "gpuClass": "standard",
  "kernelspec": {
   "display_name": "sd_env:Python",
   "language": "python",
   "name": "conda-env-sd_env-py"
  },
  "language_info": {
   "codemirror_mode": {
    "name": "ipython",
    "version": 3
   },
   "file_extension": ".py",
   "mimetype": "text/x-python",
   "name": "python",
   "nbconvert_exporter": "python",
   "pygments_lexer": "ipython3",
   "version": "3.10.6"
  },
  "vscode": {
   "interpreter": {
    "hash": "e593ac106456af50ce7af38f9671c411b49d6cd90f9b885e167f0f594e09038c"
   }
  }
 },
 "nbformat": 4,
 "nbformat_minor": 4
}
