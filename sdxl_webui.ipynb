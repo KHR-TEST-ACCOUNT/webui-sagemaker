{
 "cells": [
  {
   "cell_type": "markdown",
   "metadata": {},
   "source": [
    "[![Open in SageMaker Studio Lab](https://studiolab.sagemaker.aws/studiolab.svg)](https://studiolab.sagemaker.aws/import/github/camenduru/stable-diffusion-webui-sagemaker/blob/main/nightly/chillout_mix_webui_sagemaker.ipynb)"
   ]
  },
  {
   "cell_type": "markdown",
   "metadata": {
    "jp-MarkdownHeadingCollapsed": true,
    "tags": []
   },
   "source": [
    "#### ***初期設定***"
   ]
  },
  {
   "cell_type": "code",
   "execution_count": null,
   "metadata": {},
   "outputs": [],
   "source": [
    "# 環境の準備　（このコマンドのみターミナルで実行）\n",
    "conda create -y --name sd_env python=3.10.6\n",
    "conda activate sd_env\n",
    "conda install -y ipykernel"
   ]
  },
  {
   "cell_type": "code",
   "execution_count": null,
   "metadata": {
    "tags": []
   },
   "outputs": [],
   "source": [
    "### Stable Diffusion web UI SDXL対応バージョンを起動するためのコマンド ### \n",
    "%cd /home/studio-lab-user/\n",
    "!python -V\n",
    "%conda install -y aria2\n",
    "!pip install xformers==0.0.20 triton==2.0.0 -U\n",
    "!pip install torchvision\n",
    "%conda install -y -c conda-forge libglib\n",
    "!pip install gradio_client==0.2.7\n",
    "# リポジトリをクローン\n",
    "!git clone https://github.com/AUTOMATIC1111/stable-diffusion-webui /home/studio-lab-user/ui"
   ]
  },
  {
   "cell_type": "markdown",
   "metadata": {
    "jp-MarkdownHeadingCollapsed": true,
    "tags": []
   },
   "source": [
    "#### ***Model, VAE, embedings, Upscaler, LoRA, 拡張機能 の追加***"
   ]
  },
  {
   "cell_type": "code",
   "execution_count": null,
   "metadata": {
    "id": "SaAJk33ppFw1",
    "tags": []
   },
   "outputs": [],
   "source": [
    "lode_mode=\"aria2c --console-log-level=error -c -x 16 -s 16 -k 1M\"\n",
    "\n",
    "# Model\n",
    "model_dir=\"/home/studio-lab-user/ui/models/Stable-diffusion\"\n",
    "# !{lode_mode} https://civitai.com/api/download/models/126688 -d {model_dir} -o DreamShaper.safetensors\n",
    "!{lode_mode} https://civitai.com/api/download/models/137992 -d {model_dir} -o BreakDomainXL.safetensors\n",
    "# !{lode_mode} https://civitai.com/api/download/models/134557 -d {model_dir} -o CounterfeitXL.safetensors\n",
    "# !{lode_mode} https://civitai.com/api/download/models/138828 -d {model_dir} -o blue_pencil-XL.safetensors\n",
    "# !{lode_mode} https://civitai.com/api/download/models/138079 -d {model_dir} -o ReproductionXL.safetensors\n",
    "# !{lode_mode} https://huggingface.co/ckpt/sd_xl_base_1.0/resolve/main/sd_xl_base_1.0_0.9vae.safetensors -d {model_dir} -o sd_xl_base_1.0.safetensors\n",
    "# !{lode_mode} https://huggingface.co/stabilityai/stable-diffusion-xl-base-1.0/resolve/main/sd_xl_base_1.0_0.9vae.safetensors -d {model_dir} -o sd_xl_base_1.0_0.9vae.safetensors\n",
    "# !{lode_mode} https://huggingface.co/stabilityai/stable-diffusion-xl-refiner-1.0/resolve/main/sd_xl_refiner_1.0.safetensors -d {model_dir} -o sd_xl_refiner_1.0.safetensors\n",
    "# Refiner\n",
    "!{lode_mode} https://huggingface.co/ckpt/sd_xl_refiner_1.0/resolve/main/sd_xl_refiner_1.0_0.9vae.safetensors -d {base_dir} -o sd_xl_refiner_1.0.safetensors\n",
    "\n",
    "# VAE\n",
    "vae_dir=\"/home/studio-lab-user/ui/models/VAE\"\n",
    "!{lode_mode} https://huggingface.co/ckpt/sdxl_vae/resolve/main/sdxl_vae.safetensors -d {vae_dir} -o sdxl_vae.vae.safetensors\n",
    "\n",
    "# embedings\n",
    "base_dir=\"/home/studio-lab-user/ui/embeddings\"\n",
    "!{lode_mode} https://civitai.com/api/download/models/9208 -d {base_dir} -o EasyNegative.safetensors\n",
    "!{lode_mode} https://civitai.com/api/download/models/107234 -d {base_dir} -o EasyNegativeV2.safetensors\n",
    "!{lode_mode} https://civitai.com/api/download/models/60938 -d {base_dir} -o negative_hand-neg.pt\n",
    "!{lode_mode} https://civitai.com/api/download/models/5637 -d {base_dir} -o ng_deepnegative_v1_75t.pt\n",
    "!{lode_mode} https://civitai.com/api/download/models/20170 -d {base_dir} -o bad-picture-for-ChilloutMix-75v.pt #chilled_remix_v2専用\n",
    "!{lode_mode} https://civitai.com/api/download/models/5119 -d {base_dir} -o pureerosface_v1.pt\n",
    "!{lode_mode} https://civitai.com/api/download/models/95959 -d {base_dir} -o GS-DeFeminize-neg.pt\n",
    "!{lode_mode} https://civitai.com/api/download/models/20068 -d {base_dir} -o badhandv4-AnimeIllust.pt\n",
    "# !{lode_mode} https://civitai.com/api/download/models/134424 -d {base_dir} -o unaestheticX-NegL.safetensors # Flat2 のように使う\n",
    "\n",
    "# Upscaler\n",
    "upscaler_dir = \"/home/studio-lab-user/ui/models/ESRGAN\"\n",
    "!{lode_mode} https://huggingface.co/embed/upscale/resolve/main/4x-UltraSharp.pth -d {upscaler_dir} -o 4x-UltraSharp.pth\n",
    "\n",
    "# Lora\n",
    "base_dir=\"/home/studio-lab-user/ui/models/Lora\"\n",
    "!{lode_mode} https://civitai.com/api/download/models/121538 -d {base_dir} -o watercolor-style.safetensors\n",
    "# !{lode_mode} https://civitai.com/api/download/models/136749 -d {base_dir} -o ChibiStyleXL.safetensors\n",
    "!{lode_mode} https://civitai.com/api/download/models/138938 -d {base_dir} -o Linear-Manga-Style.safetensors\n",
    "!{lode_mode} https://civitai.com/api/download/models/131266 -d {base_dir} -o JOJO-Style.safetensors\n",
    "!{lode_mode} https://civitai.com/api/download/models/141661 -d {base_dir} -o Goth-Sailor-Moon.safetensors\n",
    "!{lode_mode} https://civitai.com/api/download/models/137124 -d {base_dir} -o DreamART-Style.safetensors\n",
    "!{lode_mode} https://civitai.com/api/download/models/126807 -d {base_dir} -o Photorealistic-Slider.safetensors\n",
    "!{lode_mode} https://civitai.com/api/download/models/127510 -d {base_dir} -o Greg-Rutkowski-Style.safetensors\n",
    "!{lode_mode} https://civitai.com/api/download/models/118427 -d {base_dir} -o perfect-eyes-xl.safetensors\n",
    "!{lode_mode} https://civitai.com/api/download/models/122359 -d {base_dir} -o detail-tweaker-xl.safetensors\n",
    "\n",
    "# 拡張機能の追加\n",
    "base_dir=\"/home/studio-lab-user/ui/extensions\"\n",
    "!git clone https://github.com/Mikubill/sd-webui-controlnet {base_dir}/controlnet\n",
    "!git clone https://github.com/anonCantCode/sd-webui-send-to-controlnet {base_dir}/send-to-controlnet\n",
    "!git clone https://github.com/AlUlkesh/stable-diffusion-webui-images-browser {base_dir}/images-browser\n",
    "!git clone https://github.com/Haoming02/sd-webui-prompt-format {base_dir}/prompt-format\n",
    "!git clone https://github.com/DominikDoom/a1111-sd-webui-tagcomplete {base_dir}/tagcomplete\n",
    "!git clone https://github.com/jexom/sd-webui-depth-lib {base_dir}/depth-lib\n",
    "!git clone https://github.com/richrobber2/canvas-zoom {base_dir}/canvas-zoom\n",
    "!git clone https://github.com/Zyin055/Config-Presets {base_dir}/Config-Presets\n",
    "!git clone https://github.com/alemelis/sd-webui-ar {base_dir}/sd-webui-ar\n",
    "!git clone https://github.com/Bing-su/adetailer {base_dir}/adetailer\n",
    "!git clone https://github.com/chrisgoringe/Styles-Editor {base_dir}/Styles-Editor\n",
    "!git clone https://github.com/pkuliyi2015/multidiffusion-upscaler-for-automatic1111 {base_dir}/multidiffusion-upscaler-for-automatic1111\n",
    "!git clone https://github.com/toriato/stable-diffusion-webui-wd14-tagger {base_dir}/wd14-tagger\n",
    "!git clone https://github.com/opparco/stable-diffusion-webui-two-shot {base_dir}/two-shot\n",
    "!git clone https://github.com/wcde/sd-webui-refiner {base_dir}/refiner\n",
    "!git reset --hard\n",
    "!git -C /home/studio-lab-user/ui/repositories/stable-diffusion-stability-ai reset --hard\n",
    "\n",
    "# ControlNetのモデルの追加\n",
    "base_dir=\"/home/studio-lab-user/ui/models/ControlNet\"\n",
    "!{lode_mode} https://huggingface.co/ckpt/ControlNet-v1-1/resolve/main/control_v11f1p_sd15_depth_fp16.safetensors -d {base_dir} -o control_v11f1p_sd15_depth_fp16.safetensors\n",
    "!{lode_mode} https://huggingface.co/ckpt/ControlNet-v1-1/resolve/main/control_v11p_sd15_inpaint_fp16.safetensors -d {base_dir} -o control_v11p_sd15_inpaint_fp16.safetensors\n",
    "!{lode_mode} https://huggingface.co/ckpt/ControlNet-v1-1/resolve/main/control_v11p_sd15_canny_fp16.safetensors -d {base_dir} -o control_v11p_sd15_canny_fp16.safetensors\n",
    "# !{lode_mode} https://huggingface.co/ckpt/ControlNet-v1-1/resolve/main/control_v11f1e_sd15_tile_fp16.safetensors -d {lode_mode} -o control_v11f1e_sd15_tile_fp16.safetensors\n",
    "# !{lode_mode} https://huggingface.co/ckpt/ControlNet-v1-1/resolve/main/control_v11e_sd15_ip2p_fp16.safetensors -d {lode_mode} -o control_v11e_sd15_ip2p_fp16.safetensors\n",
    "# !{lode_mode} https://huggingface.co/ckpt/ControlNet-v1-1/resolve/main/control_v11e_sd15_shuffle_fp16.safetensors -d {lode_mode} -o control_v11e_sd15_shuffle_fp16.safetensors\n",
    "# !{lode_mode} https://huggingface.co/ckpt/ControlNet-v1-1/resolve/main/control_v11p_sd15_lineart_fp16.safetensors -d {lode_mode} -o control_v11p_sd15_lineart_fp16.safetensors\n",
    "# !{lode_mode} https://huggingface.co/ckpt/ControlNet-v1-1/resolve/main/control_v11p_sd15_mlsd_fp16.safetensors -d {lode_mode} -o control_v11p_sd15_mlsd_fp16.safetensors\n",
    "# !{lode_mode} https://huggingface.co/ckpt/ControlNet-v1-1/resolve/main/control_v11p_sd15_normalbae_fp16.safetensors -d {lode_mode} -o control_v11p_sd15_normalbae_fp16.safetensors\n",
    "# !{lode_mode} https://huggingface.co/ckpt/ControlNet-v1-1/resolve/main/control_v11p_sd15_openpose_fp16.safetensors -d {lode_mode} -o control_v11p_sd15_openpose_fp16.safetensors\n",
    "# !{lode_mode} https://huggingface.co/ckpt/ControlNet-v1-1/resolve/main/control_v11p_sd15_scribble_fp16.safetensors -d {lode_mode} -o control_v11p_sd15_scribble_fp16.safetensors\n",
    "# !{lode_mode} https://huggingface.co/ckpt/ControlNet-v1-1/resolve/main/control_v11p_sd15_seg_fp16.safetensors -d {lode_mode} -o control_v11p_sd15_seg_fp16.safetensors\n",
    "# !{lode_mode} https://huggingface.co/ckpt/ControlNet-v1-1/resolve/main/control_v11p_sd15_softedge_fp16.safetensors -d {lode_mode} -o control_v11p_sd15_softedge_fp16.safetensors\n",
    "# !{lode_mode} https://huggingface.co/ckpt/ControlNet-v1-1/resolve/main/control_v11p_sd15s2_lineart_anime_fp16.safetensors -d {lode_mode} -o control_v11p_sd15s2_lineart_anime_fp16.safetensors"
   ]
  },
  {
   "cell_type": "markdown",
   "metadata": {
    "jp-MarkdownHeadingCollapsed": true,
    "tags": []
   },
   "source": [
    "#### ***Optional - depth-lib の画像を配置***"
   ]
  },
  {
   "cell_type": "code",
   "execution_count": null,
   "metadata": {
    "tags": []
   },
   "outputs": [],
   "source": [
    "# maps.zip（depth-libの手の画像） をホームに用意\n",
    "lode_mode=\"aria2c --console-log-level=error -c -x 16 -s 16 -k 1M\"\n",
    "!{lode_mode} https://huggingface.co/okozk/depth_maps/resolve/main/maps.zip -d /home/studio-lab-user -o maps.zip"
   ]
  },
  {
   "cell_type": "code",
   "execution_count": null,
   "metadata": {
    "tags": []
   },
   "outputs": [],
   "source": [
    "# depth-lib の画像をの画像を準備する\n",
    "import datetime\n",
    "import os\n",
    "\n",
    "today = datetime.datetime.now().strftime(\"%Y%m%d_%H%M%S\")\n",
    "maps_dir = \"/home/studio-lab-user/ui/extensions/depth-lib/maps\"\n",
    "delete_folder = \"/home/studio-lab-user/Delete\"\n",
    "\n",
    "if not os.path.exists(delete_folder):\n",
    "    os.makedirs(delete_folder)\n",
    "\n",
    "!unzip -d {maps_dir}/ /home/studio-lab-user/maps.zip > /dev/null\n",
    "!mv /home/studio-lab-user/maps.zip {delete_folder}/maps_{today}.zip\n",
    "!rm -rf {maps_dir}/__MACOSX\n",
    "!ls {maps_dir}"
   ]
  },
  {
   "cell_type": "markdown",
   "metadata": {
    "jp-MarkdownHeadingCollapsed": true,
    "tags": []
   },
   "source": [
    "#### ***画像生成 の結果をZipにする***"
   ]
  },
  {
   "cell_type": "code",
   "execution_count": 1,
   "metadata": {
    "tags": []
   },
   "outputs": [],
   "source": [
    "# 画像生成 の結果をZipにする。50件以上のフォルダは、50件ごとにZipにする。\n",
    "\n",
    "import os\n",
    "import glob\n",
    "import datetime\n",
    "import zipfile\n",
    "import shutil\n",
    "\n",
    "\n",
    "today = datetime.datetime.now().strftime(\"%Y%m%d_%H%M%S\")\n",
    "# 圧縮したい画像のパス\n",
    "img_paths = [f\"/home/studio-lab-user/ui/outputs/{folder}\" for folder in [\"txt2img-images\", \"txt2img-grids\", \"img2img-images\", \"img2img-grids\", \"extras-images\"]]\n",
    "# ZIPファイルのパス\n",
    "zip_paths = [f\"/home/studio-lab-user/outputs_{folder}_{today}.zip\" for folder in [\"txt2img-images\", \"txt2img-grids\", \"img2img-images\", \"img2img-grids\", \"extras-images\"]]\n",
    "# 移動対象のフォルダのパス\n",
    "move_paths = [f\"{img_path}/*\" for img_path in img_paths]\n",
    "# 不要なフォルダのパス\n",
    "delete_paths = [f\"/home/studio-lab-user/Delete/{folder}/{today}\" for folder in [\"txt2img-images\", \"txt2img-grids\", \"img2img-images\", \"img2img-grids\", \"extras-images\"]]\n",
    "\n",
    "\n",
    "# ZIPファイルに圧縮する関数\n",
    "def zip_files(img_path, zip_path):\n",
    "    with zipfile.ZipFile(zip_path, \"w\", zipfile.ZIP_DEFLATED) as zf:\n",
    "        for root, dirs, files in os.walk(img_path):\n",
    "            for file in files:\n",
    "                rel_path = os.path.relpath(os.path.join(root, file), img_path)\n",
    "                zf.write(os.path.join(root, file), rel_path)\n",
    "\n",
    "                \n",
    "# img_pathのファイル数が50以上あれば、1, 2のような名前でフォルダを作って、50件ずつ移動させる関数\n",
    "def split_files(img_path):\n",
    "    file_count = len(os.listdir(img_path))\n",
    "    if file_count > 50:\n",
    "        folder_num = 1\n",
    "        file_list = os.listdir(img_path)\n",
    "        file_chunks = [file_list[i:i+50] for i in range(0, file_count, 50)]\n",
    "        for file_chunk in file_chunks:\n",
    "            folder_name = str(folder_num)\n",
    "            folder_path = os.path.join(img_path, \"zip_\"+folder_name)\n",
    "            if not os.path.exists(folder_path):\n",
    "                os.makedirs(folder_path)\n",
    "            for file in file_chunk:\n",
    "                file_path = os.path.join(img_path, file)\n",
    "                shutil.move(file_path, folder_path)\n",
    "            folder_num += 1\n",
    "\n",
    "            \n",
    "# 画像のパスとZIPファイルのパスのペアごとに圧縮と移動を行う関数\n",
    "def zip_and_move(img_path, zip_path, move_path, delete_path):\n",
    "    if len(os.listdir(img_path)) == 0:\n",
    "        return\n",
    "    split_files(img_path)\n",
    "    subfolder_list = os.listdir(img_path)\n",
    "    for subfolder in subfolder_list:\n",
    "        subfolder_path = os.path.join(img_path, subfolder)\n",
    "        zip_name = zip_path[:-4] + \"_\" + subfolder + \".zip\"\n",
    "        zip_files(subfolder_path, zip_name)\n",
    "    if not os.path.exists(delete_path):\n",
    "        os.makedirs(delete_path)\n",
    "    move_list = glob.glob(move_path)\n",
    "    for file in move_list:\n",
    "        shutil.move(file, delete_path)\n",
    "\n",
    "\n",
    "# 画像のパスとZIPファイルのパスのペアごとに圧縮と移動を行う\n",
    "for img_path, zip_path, move_path, delete_path in zip(img_paths, zip_paths, move_paths, delete_paths):\n",
    "    zip_and_move(img_path, zip_path, move_path, delete_path)"
   ]
  },
  {
   "cell_type": "markdown",
   "metadata": {
    "tags": []
   },
   "source": [
    "#### ***⭐ 実行 ----------------------------------------------------------------------------***"
   ]
  },
  {
   "cell_type": "code",
   "execution_count": null,
   "metadata": {
    "tags": []
   },
   "outputs": [],
   "source": [
    "# Web ui 起動\n",
    "home=\"/home/studio-lab-user/ui\"\n",
    "ngrok_token=\"YOUR NGROK TOKEN\"\n",
    "%cd {home}\n",
    "!sed -i -e '''/from modules import launch_utils/a\\import os''' {home}/launch.py\n",
    "!sed -i -e '''/        prepare_environment()/a\\        os.system\\(f\\\"\"\"sed -i -e ''\\\"s/dict()))/dict())).cuda()/g\\\"'' {home}/repositories/stable-diffusion-stability-ai/ldm/util.py\"\"\")''' {home}/launch.py\n",
    "!sed -i -e 's/\\[\"sd_model_checkpoint\"\\]/\\[\"sd_model_checkpoint\",\"sd_vae\",\"CLIP_stop_at_last_layers\"\\]/g' {home}/modules/shared.py\n",
    "ARGS = \"\\\"--listen --xformers --enable-insecure-extension-access --theme dark --gradio-queue  --no-half-vae --ngrok \" + ngrok_token + \"\\\"\"\n",
    "!COMMANDLINE_ARGS=$ARGS python launch.py"
   ]
  }
 ],
 "metadata": {
  "accelerator": "GPU",
  "colab": {
   "collapsed_sections": [],
   "private_outputs": true,
   "provenance": []
  },
  "gpuClass": "standard",
  "kernelspec": {
   "display_name": "sd_env:Python",
   "language": "python",
   "name": "conda-env-sd_env-py"
  },
  "language_info": {
   "codemirror_mode": {
    "name": "ipython",
    "version": 3
   },
   "file_extension": ".py",
   "mimetype": "text/x-python",
   "name": "python",
   "nbconvert_exporter": "python",
   "pygments_lexer": "ipython3",
   "version": "3.10.6"
  },
  "vscode": {
   "interpreter": {
    "hash": "e593ac106456af50ce7af38f9671c411b49d6cd90f9b885e167f0f594e09038c"
   }
  }
 },
 "nbformat": 4,
 "nbformat_minor": 4
}
