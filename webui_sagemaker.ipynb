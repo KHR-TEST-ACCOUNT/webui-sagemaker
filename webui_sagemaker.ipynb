{
 "cells": [
  {
   "cell_type": "markdown",
   "metadata": {},
   "source": [
    "[![Open in SageMaker Studio Lab](https://studiolab.sagemaker.aws/studiolab.svg)](https://studiolab.sagemaker.aws/import/github/camenduru/stable-diffusion-webui-sagemaker/blob/main/nightly/chillout_mix_webui_sagemaker.ipynb)"
   ]
  },
  {
   "cell_type": "code",
   "execution_count": null,
   "metadata": {
    "tags": []
   },
   "outputs": [],
   "source": [
    "# パッケージのインストール → カーネルを再起動する\n",
    "!mkdir /home/studio-lab-user/content\n",
    "%cd /home/studio-lab-user/content\n",
    "\n",
    "%env TF_CPP_MIN_LOG_LEVEL=1\n",
    "\n",
    "%conda install -q -y aria2\n",
    "%conda install -q -y libglib2.0-0\n",
    "# %conda install -q -y -c conda-forge libglib\n",
    "%conda install -q -y glib\n",
    "%pip install -q opencv-python-headless huggingface-hub\n",
    "!pip install -q torch>=2.0.0+cu118 torchvision==0.15.1+cu118 torchaudio==2.0.1+cu118 torchtext==0.15.1 torchdata==0.6.0 --extra-index-url https://download.pytorch.org/whl/cu118 -U\n",
    "!pip install -q xformers==0.0.18 triton==2.0.0 -U\n",
    "\n",
    "!git clone -b v2.2 https://github.com/camenduru/stable-diffusion-webui\n",
    "\n",
    "# embed\n",
    "!git clone https://huggingface.co/embed/negative /home/studio-lab-user/content/stable-diffusion-webui/embeddings/negative\n",
    "\n",
    "# 時刻\n",
    "!wget https://raw.githubusercontent.com/camenduru/stable-diffusion-webui-scripts/main/run_n_times.py -O /home/studio-lab-user/content/stable-diffusion-webui/scripts/run_n_times.py"
   ]
  },
  {
   "cell_type": "code",
   "execution_count": null,
   "metadata": {
    "id": "SaAJk33ppFw1",
    "tags": []
   },
   "outputs": [],
   "source": [
    "# BRAV6 - Model\n",
    "!rm -rf  /home/studio-lab-user/content/stable-diffusion-webui/models/Stable-diffusion/*\n",
    "!aria2c --console-log-level=error -c -x 16 -s 16 -k 1M https://huggingface.co/okozk/myBRAV6_down/resolve/main/beautifulRealistic_v60.safetensors -d /home/studio-lab-user/content/stable-diffusion-webui/models/Stable-diffusion -o beautifulRealistic_v60.safetensors\n",
    "# chilled_remix_v2 - Model\n",
    "# !aria2c --console-log-level=error -c -x 16 -s 16 -k 1M https://huggingface.co/sazyou-roukaku/chilled_remix/resolve/main/chilled_remix_v2.safetensors -d /home/studio-lab-user/content/stable-diffusion-webui/models/Stable-diffusion -o chilled_remix_v2.safetensors\n",
    "\n",
    "# VAE\n",
    "!aria2c --console-log-level=error -c -x 16 -s 16 -k 1M https://huggingface.co/stabilityai/sd-vae-ft-mse-original/resolve/main/vae-ft-mse-840000-ema-pruned.ckpt -d /home/studio-lab-user/content/stable-diffusion-webui/models/VAE -o vae-ft-mse-840000-ema-pruned.vae.pt\n",
    "\n",
    "!ls -la /home/studio-lab-user/content/stable-diffusion-webui/models/Stable-diffusion\n",
    "!ls -la /home/studio-lab-user/content/stable-diffusion-webui/models/VAE\n",
    "!rm -rf /home/studio-lab-user/content/=2.0.0+cu118"
   ]
  },
  {
   "cell_type": "code",
   "execution_count": null,
   "metadata": {
    "tags": []
   },
   "outputs": [],
   "source": [
    "!rm -rf /home/studio-lab-user/content/stable-diffusion-webui/embeddings/*\n",
    "!rm -rf /home/studio-lab-user/content/stable-diffusion-webui/models/Lora/*\n",
    "\n",
    "# embedings\n",
    "!git clone https://huggingface.co/okozk/embedings /home/studio-lab-user/content/stable-diffusion-webui/embeddings\n",
    "!rm -rf /home/studio-lab-user/content/stable-diffusion-webui/embeddings/README.md\n",
    "!rm -rf /home/studio-lab-user/content/stable-diffusion-webui/embeddings/.gitattributes\n",
    "!rm -rf /home/studio-lab-user/content/stable-diffusion-webui/embeddings/.git\n",
    "!rm -rf /home/studio-lab-user/content/stable-diffusion-webui/embeddings/.ipynb_checkpoints\n",
    "\n",
    "# Lora\n",
    "!git clone https://huggingface.co/okozk/Lora /home/studio-lab-user/content/stable-diffusion-webui/models/Lora/\n",
    "!rm -rf /home/studio-lab-user/content/stable-diffusion-webui/models/Lora/README.md\n",
    "!rm -rf /home/studio-lab-user/content/stable-diffusion-webui/models/Lora/.gitattributes\n",
    "!rm -rf /home/studio-lab-user/content/stable-diffusion-webui/models/Lora/.git\n",
    "!rm -rf /home/studio-lab-user/content/stable-diffusion-webui/models/Lora/.ipynb_checkpoints\n",
    "\n",
    "!ls -la /home/studio-lab-user/content/stable-diffusion-webui/embeddings\n",
    "!ls -la /home/studio-lab-user/content/stable-diffusion-webui/models/Lora"
   ]
  },
  {
   "cell_type": "code",
   "execution_count": null,
   "metadata": {
    "tags": []
   },
   "outputs": [],
   "source": [
    "# 拡張機能の追加\n",
    "!git clone https://github.com/AlUlkesh/stable-diffusion-webui-images-browser /home/studio-lab-user/content/stable-diffusion-webui/extensions/stable-diffusion-webui-images-browser\n",
    "!git clone https://github.com/Mikubill/sd-webui-controlnet /home/studio-lab-user/content/stable-diffusion-webui/extensions/sd-webui-controlnet\n",
    "!git clone https://github.com/jexom/sd-webui-depth-lib /home/studio-lab-user/content/stable-diffusion-webui/extensions/sd-webui-depth-lib\n",
    "!git clone https://github.com/richrobber2/canvas-zoom /home/studio-lab-user/content/stable-diffusion-webui/extensions/canvas-zoom\n",
    "!git clone https://github.com/Zyin055/Config-Presets /home/studio-lab-user/content/stable-diffusion-webui/extensions/Config-Presets\n",
    "!git clone https://github.com/alemelis/sd-webui-ar /home/studio-lab-user/content/stable-diffusion-webui/extensions/sd-webui-ar\n",
    "!git clone https://github.com/aka7774/sd_katanuki /home/studio-lab-user/content/stable-diffusion-webui/extensions/sd_katanuki\n",
    "!git clone https://github.com/camenduru/sd-civitai-browser /home/studio-lab-user/content/stable-diffusion-webui/extensions/sd-civitai-browser\n",
    "!git clone https://github.com/Bing-su/adetailer /home/studio-lab-user/content/stable-diffusion-webui/extensions/adetailer\n",
    "\n",
    "# リロード\n",
    "%cd /home/studio-lab-user/content/stable-diffusion-webui\n",
    "!git reset --hard\n",
    "!git -C /home/studio-lab-user/content/stable-diffusion-webui/repositories/stable-diffusion-stability-ai reset --hard"
   ]
  },
  {
   "cell_type": "code",
   "execution_count": null,
   "metadata": {
    "tags": []
   },
   "outputs": [],
   "source": [
    "# ControlNetのモデルの追加\n",
    "!aria2c --console-log-level=error -c -x 16 -s 16 -k 1M https://huggingface.co/ckpt/ControlNet-v1-1/resolve/main/control_v11f1p_sd15_depth_fp16.safetensors -d /home/studio-lab-user/content/stable-diffusion-webui/models/ControlNet -o control_v11f1p_sd15_depth_fp16.safetensors\n",
    "!aria2c --console-log-level=error -c -x 16 -s 16 -k 1M https://huggingface.co/ckpt/ControlNet-v1-1/resolve/main/control_v11p_sd15_inpaint_fp16.safetensors -d /home/studio-lab-user/content/stable-diffusion-webui/models/ControlNet -o control_v11p_sd15_inpaint_fp16.safetensors\n",
    "!ls /home/studio-lab-user/content/stable-diffusion-webui/models/ControlNet"
   ]
  },
  {
   "cell_type": "code",
   "execution_count": null,
   "metadata": {
    "tags": []
   },
   "outputs": [],
   "source": [
    "# depth-lib の画像をインストールする ⭐ maps.zip を用意しておく\n",
    "!unzip -d /home/studio-lab-user/content/stable-diffusion-webui/extensions/sd-webui-depth-lib/maps/ /home/studio-lab-user/maps.zip > /dev/null\n",
    "!rm -rf /home/studio-lab-user/maps.zip\n",
    "!rm -rf /home/studio-lab-user/content/stable-diffusion-webui/extensions/sd-webui-depth-lib/maps/__MACOSX\n",
    "!ls /home/studio-lab-user/content/stable-diffusion-webui/extensions/sd-webui-depth-lib/maps"
   ]
  },
  {
   "cell_type": "code",
   "execution_count": null,
   "metadata": {},
   "outputs": [],
   "source": [
    "******************************************************************************\n",
    "Optional\n",
    "******************************************************************************"
   ]
  },
  {
   "cell_type": "code",
   "execution_count": null,
   "metadata": {
    "tags": []
   },
   "outputs": [],
   "source": [
    "# sd_katanuki のフォルダを用意 ⭐ train-images.zip を用意しておく\n",
    "!mkdir /home/studio-lab-user/sd_katanuki_in\n",
    "!mkdir /home/studio-lab-user/sd_katanuki_out\n",
    "!unzip -d /home/studio-lab-user/sd_katanuki_in /home/studio-lab-user/train-images.zip > /dev/null\n",
    "!rm -rf /home/studio-lab-user/sd_katanuki_in/__MACOSX\n",
    "!ls /home/studio-lab-user/sd_katanuki_in # | wc -l"
   ]
  },
  {
   "cell_type": "code",
   "execution_count": null,
   "metadata": {
    "tags": []
   },
   "outputs": [],
   "source": [
    "# sd_katanuki の結果をZipにする\n",
    "%cd /home/studio-lab-user\n",
    "!tar -czf /home/studio-lab-user/sd_katanuki_out.tar.gz sd_katanuki_out\n",
    "!rm -rf /home/studio-lab-user/sd_katanuki_in\n",
    "!rm -rf /home/studio-lab-user/sd_katanuki_out\n",
    "!rm -rf /home/studio-lab-user/train-images.zip"
   ]
  },
  {
   "cell_type": "code",
   "execution_count": null,
   "metadata": {
    "tags": []
   },
   "outputs": [],
   "source": [
    "# 画像生成 の結果をZipにする\n",
    "%cd /home/studio-lab-user/content/stable-diffusion-webui\n",
    "\n",
    "import datetime\n",
    "today = datetime.datetime.now().strftime(\"%Y%m%d_%H%M%S\")\n",
    "!tar -czf /home/studio-lab-user/outputs_{today}.tar.gz outputs\n",
    "\n",
    "%cd /home/studio-lab-user\n",
    "!rm -rf /home/studio-lab-user/content/stable-diffusion-webui/outputs/txt2img-images/*\n",
    "!rm -rf /home/studio-lab-user/content/stable-diffusion-webui/outputs/txt2img-grids/*\n",
    "!rm -rf /home/studio-lab-user/content/stable-diffusion-webui/outputs/img2img-images/*\n",
    "!rm -rf /home/studio-lab-user/content/stable-diffusion-webui/outputs/img2img-grids/*\n",
    "!rm -rf /home/studio-lab-user/content/stable-diffusion-webui/outputs/extras-images/*"
   ]
  },
  {
   "cell_type": "code",
   "execution_count": null,
   "metadata": {
    "tags": []
   },
   "outputs": [],
   "source": [
    "# キャッシュの削除\n",
    "%cd ~/\n",
    "!pwd\n",
    "!rm -rf .cache\n",
    "!ls -la\n",
    "# %pip install"
   ]
  },
  {
   "cell_type": "code",
   "execution_count": null,
   "metadata": {},
   "outputs": [],
   "source": [
    "******************************************************************************"
   ]
  },
  {
   "cell_type": "code",
   "execution_count": null,
   "metadata": {
    "tags": []
   },
   "outputs": [
    {
     "name": "stdout",
     "output_type": "stream",
     "text": [
      "\n",
      " 47%|████████████████████                       | 14/30 [00:21<00:24,  1.50s/it]\u001b[A\n",
      " 50%|█████████████████████▌                     | 15/30 [00:22<00:22,  1.51s/it]\u001b[A\n",
      " 53%|██████████████████████▉                    | 16/30 [00:24<00:21,  1.51s/it]\u001b[A\n",
      " 57%|████████████████████████▎                  | 17/30 [00:25<00:19,  1.51s/it]\u001b[A\n",
      " 60%|█████████████████████████▊                 | 18/30 [00:27<00:18,  1.51s/it]\u001b[A\n",
      " 63%|███████████████████████████▏               | 19/30 [00:28<00:16,  1.51s/it]\u001b[A\n",
      " 67%|████████████████████████████▋              | 20/30 [00:30<00:15,  1.51s/it]\u001b[A\n",
      " 70%|██████████████████████████████             | 21/30 [00:31<00:13,  1.51s/it]\u001b[A\n",
      " 73%|███████████████████████████████▌           | 22/30 [00:33<00:12,  1.51s/it]\u001b[A\n",
      " 77%|████████████████████████████████▉          | 23/30 [00:34<00:10,  1.51s/it]\u001b[A\n",
      " 80%|██████████████████████████████████▍        | 24/30 [00:36<00:09,  1.51s/it]\u001b[A\n",
      " 83%|███████████████████████████████████▊       | 25/30 [00:37<00:07,  1.50s/it]\u001b[A\n",
      " 87%|█████████████████████████████████████▎     | 26/30 [00:39<00:06,  1.50s/it]\u001b[A\n",
      " 90%|██████████████████████████████████████▋    | 27/30 [00:40<00:04,  1.51s/it]\u001b[A\n",
      " 93%|████████████████████████████████████████▏  | 28/30 [00:42<00:03,  1.51s/it]\u001b[A\n",
      " 97%|█████████████████████████████████████████▌ | 29/30 [00:43<00:01,  1.51s/it]\u001b[A\n",
      "100%|███████████████████████████████████████████| 30/30 [00:45<00:00,  1.51s/it]\u001b[A\n",
      "mediapipe: \u001b[1;36m1\u001b[0m detected.\n",
      "100%|███████████████████████████████████████████| 13/13 [00:03<00:00,  4.06it/s]\n",
      "  0%|                                                    | 0/30 [00:00<?, ?it/s]\n",
      "  3%|█▍                                          | 1/30 [00:00<00:07,  4.13it/s]\u001b[A\n",
      "  7%|██▉                                         | 2/30 [00:00<00:06,  4.10it/s]\u001b[A\n",
      " 10%|████▍                                       | 3/30 [00:00<00:06,  4.07it/s]\u001b[A\n",
      " 13%|█████▊                                      | 4/30 [00:00<00:06,  4.03it/s]\u001b[A\n",
      " 17%|███████▎                                    | 5/30 [00:01<00:06,  4.05it/s]\u001b[A\n",
      " 20%|████████▊                                   | 6/30 [00:01<00:05,  4.06it/s]\u001b[A\n",
      " 23%|██████████▎                                 | 7/30 [00:01<00:05,  4.07it/s]\u001b[A\n",
      " 27%|███████████▋                                | 8/30 [00:01<00:05,  4.05it/s]\u001b[A\n",
      " 30%|█████████████▏                              | 9/30 [00:02<00:05,  4.04it/s]\u001b[A\n",
      " 33%|██████████████▎                            | 10/30 [00:02<00:04,  4.03it/s]\u001b[A\n",
      " 37%|███████████████▊                           | 11/30 [00:02<00:04,  4.04it/s]\u001b[A\n",
      " 40%|█████████████████▏                         | 12/30 [00:02<00:04,  4.03it/s]\u001b[A\n",
      " 43%|██████████████████▋                        | 13/30 [00:03<00:04,  4.02it/s]\u001b[A\n",
      " 47%|████████████████████                       | 14/30 [00:03<00:03,  4.03it/s]\u001b[A\n",
      " 50%|█████████████████████▌                     | 15/30 [00:03<00:03,  4.05it/s]\u001b[A\n",
      " 53%|██████████████████████▉                    | 16/30 [00:03<00:03,  4.04it/s]\u001b[A\n",
      " 57%|████████████████████████▎                  | 17/30 [00:04<00:03,  4.03it/s]\u001b[A\n",
      " 60%|█████████████████████████▊                 | 18/30 [00:04<00:02,  4.02it/s]\u001b[A\n",
      " 63%|███████████████████████████▏               | 19/30 [00:04<00:02,  4.03it/s]\u001b[A\n",
      " 67%|████████████████████████████▋              | 20/30 [00:04<00:02,  4.04it/s]\u001b[A\n",
      " 70%|██████████████████████████████             | 21/30 [00:05<00:02,  4.04it/s]\u001b[A\n",
      " 73%|███████████████████████████████▌           | 22/30 [00:05<00:01,  4.03it/s]\u001b[A\n",
      " 77%|████████████████████████████████▉          | 23/30 [00:05<00:01,  4.03it/s]\u001b[A\n",
      " 80%|██████████████████████████████████▍        | 24/30 [00:05<00:01,  4.04it/s]\u001b[A\n",
      " 83%|███████████████████████████████████▊       | 25/30 [00:06<00:01,  4.04it/s]\u001b[A\n",
      " 87%|█████████████████████████████████████▎     | 26/30 [00:06<00:00,  4.02it/s]\u001b[A\n",
      " 90%|██████████████████████████████████████▋    | 27/30 [00:06<00:00,  4.02it/s]\u001b[A\n",
      " 93%|████████████████████████████████████████▏  | 28/30 [00:06<00:00,  4.03it/s]\u001b[A\n",
      " 97%|█████████████████████████████████████████▌ | 29/30 [00:07<00:00,  4.03it/s]\u001b[A\n",
      "100%|███████████████████████████████████████████| 30/30 [00:07<00:00,  4.04it/s]\u001b[A\n",
      "\tTile 1/12\n",
      "\tTile 2/12\n",
      "\tTile 3/12\n",
      "\tTile 4/12\n",
      "\tTile 5/12\n",
      "\tTile 6/12\n",
      "\tTile 7/12\n",
      "\tTile 8/12\n",
      "\tTile 9/12\n",
      "\tTile 10/12\n",
      "\tTile 11/12\n",
      "\tTile 12/12\n",
      "  0%|                                                    | 0/30 [00:00<?, ?it/s]\n",
      "  3%|█▍                                          | 1/30 [00:01<00:43,  1.49s/it]\u001b[A\n",
      "  7%|██▉                                         | 2/30 [00:03<00:42,  1.51s/it]\u001b[A\n",
      " 10%|████▍                                       | 3/30 [00:04<00:40,  1.51s/it]\u001b[A\n",
      " 13%|█████▊                                      | 4/30 [00:06<00:39,  1.51s/it]\u001b[A\n",
      " 17%|███████▎                                    | 5/30 [00:07<00:37,  1.50s/it]\u001b[A\n",
      " 20%|████████▊                                   | 6/30 [00:09<00:36,  1.50s/it]\u001b[A\n",
      " 23%|██████████▎                                 | 7/30 [00:10<00:34,  1.51s/it]\u001b[A\n",
      " 27%|███████████▋                                | 8/30 [00:12<00:33,  1.50s/it]\u001b[A\n",
      " 30%|█████████████▏                              | 9/30 [00:13<00:31,  1.50s/it]\u001b[A\n",
      " 33%|██████████████▎                            | 10/30 [00:15<00:30,  1.50s/it]\u001b[A\n",
      " 37%|███████████████▊                           | 11/30 [00:16<00:28,  1.50s/it]\u001b[A\n",
      " 40%|█████████████████▏                         | 12/30 [00:18<00:27,  1.50s/it]\u001b[A\n",
      " 43%|██████████████████▋                        | 13/30 [00:19<00:25,  1.50s/it]\u001b[A\n",
      " 47%|████████████████████                       | 14/30 [00:21<00:23,  1.50s/it]\u001b[A\n",
      " 50%|█████████████████████▌                     | 15/30 [00:22<00:22,  1.50s/it]\u001b[A\n",
      " 53%|██████████████████████▉                    | 16/30 [00:24<00:21,  1.50s/it]\u001b[A\n",
      " 57%|████████████████████████▎                  | 17/30 [00:25<00:19,  1.50s/it]\u001b[A\n",
      " 60%|█████████████████████████▊                 | 18/30 [00:27<00:17,  1.50s/it]\u001b[A\n",
      " 63%|███████████████████████████▏               | 19/30 [00:28<00:16,  1.50s/it]\u001b[A\n",
      " 67%|████████████████████████████▋              | 20/30 [00:30<00:15,  1.50s/it]\u001b[A\n",
      " 70%|██████████████████████████████             | 21/30 [00:31<00:13,  1.50s/it]\u001b[A\n",
      " 73%|███████████████████████████████▌           | 22/30 [00:33<00:12,  1.50s/it]\u001b[A\n",
      " 77%|████████████████████████████████▉          | 23/30 [00:34<00:10,  1.50s/it]\u001b[A\n",
      " 80%|██████████████████████████████████▍        | 24/30 [00:36<00:09,  1.50s/it]\u001b[A\n",
      " 83%|███████████████████████████████████▊       | 25/30 [00:37<00:07,  1.50s/it]\u001b[A\n",
      " 87%|█████████████████████████████████████▎     | 26/30 [00:39<00:06,  1.50s/it]\u001b[A\n",
      " 90%|██████████████████████████████████████▋    | 27/30 [00:40<00:04,  1.50s/it]\u001b[A\n",
      " 93%|████████████████████████████████████████▏  | 28/30 [00:42<00:03,  1.50s/it]\u001b[A\n",
      " 97%|█████████████████████████████████████████▌ | 29/30 [00:43<00:01,  1.50s/it]\u001b[A\n",
      "100%|███████████████████████████████████████████| 30/30 [00:45<00:00,  1.50s/it]\u001b[A\n",
      "\u001b[1m[\u001b[0m-\u001b[1m]\u001b[0m ADetailer: nothing detected on image \u001b[1;36m21\u001b[0m with 1st settings.\n",
      "  0%|                                                    | 0/30 [00:00<?, ?it/s]\n",
      "  3%|█▍                                          | 1/30 [00:00<00:07,  4.12it/s]\u001b[A\n",
      "  7%|██▉                                         | 2/30 [00:00<00:06,  4.12it/s]\u001b[A\n",
      " 10%|████▍                                       | 3/30 [00:00<00:06,  4.12it/s]\u001b[A\n",
      " 13%|█████▊                                      | 4/30 [00:00<00:06,  4.08it/s]\u001b[A\n",
      " 17%|███████▎                                    | 5/30 [00:01<00:06,  4.08it/s]\u001b[A\n",
      " 20%|████████▊                                   | 6/30 [00:01<00:05,  4.09it/s]\u001b[A\n",
      " 23%|██████████▎                                 | 7/30 [00:01<00:05,  4.07it/s]\u001b[A\n",
      " 27%|███████████▋                                | 8/30 [00:01<00:05,  4.06it/s]\u001b[A\n",
      " 30%|█████████████▏                              | 9/30 [00:02<00:05,  4.07it/s]\u001b[A\n",
      " 33%|██████████████▎                            | 10/30 [00:02<00:04,  4.07it/s]\u001b[A\n",
      " 37%|███████████████▊                           | 11/30 [00:02<00:04,  4.08it/s]\u001b[A\n",
      " 40%|█████████████████▏                         | 12/30 [00:02<00:04,  4.07it/s]\u001b[A\n",
      " 43%|██████████████████▋                        | 13/30 [00:03<00:04,  4.07it/s]\u001b[A\n",
      " 47%|████████████████████                       | 14/30 [00:03<00:03,  4.06it/s]\u001b[A\n",
      " 50%|█████████████████████▌                     | 15/30 [00:03<00:03,  4.07it/s]\u001b[A\n",
      " 53%|██████████████████████▉                    | 16/30 [00:03<00:03,  4.06it/s]\u001b[A\n",
      " 57%|████████████████████████▎                  | 17/30 [00:04<00:03,  4.07it/s]\u001b[A\n",
      " 60%|█████████████████████████▊                 | 18/30 [00:04<00:02,  4.07it/s]\u001b[A\n",
      " 63%|███████████████████████████▏               | 19/30 [00:04<00:02,  4.09it/s]\u001b[A\n",
      " 67%|████████████████████████████▋              | 20/30 [00:04<00:02,  4.06it/s]\u001b[A\n",
      " 70%|██████████████████████████████             | 21/30 [00:05<00:02,  4.06it/s]\u001b[A\n",
      " 73%|███████████████████████████████▌           | 22/30 [00:05<00:01,  4.05it/s]\u001b[A\n",
      " 77%|████████████████████████████████▉          | 23/30 [00:05<00:01,  4.07it/s]\u001b[A\n",
      " 80%|██████████████████████████████████▍        | 24/30 [00:05<00:01,  4.08it/s]\u001b[A\n",
      " 83%|███████████████████████████████████▊       | 25/30 [00:06<00:01,  4.09it/s]\u001b[A\n",
      " 87%|█████████████████████████████████████▎     | 26/30 [00:06<00:00,  4.08it/s]\u001b[A\n",
      " 90%|██████████████████████████████████████▋    | 27/30 [00:06<00:00,  4.08it/s]\u001b[A\n",
      " 93%|████████████████████████████████████████▏  | 28/30 [00:06<00:00,  4.06it/s]\u001b[A\n",
      " 97%|█████████████████████████████████████████▌ | 29/30 [00:07<00:00,  4.05it/s]\u001b[A\n",
      "100%|███████████████████████████████████████████| 30/30 [00:07<00:00,  4.07it/s]\u001b[A\n",
      "\tTile 1/12\n",
      "\tTile 2/12\n",
      "\tTile 3/12\n",
      "\tTile 4/12\n",
      "\tTile 5/12\n",
      "\tTile 6/12\n",
      "\tTile 7/12\n",
      "\tTile 8/12\n",
      "\tTile 9/12\n",
      "\tTile 10/12\n",
      "\tTile 11/12\n",
      "\tTile 12/12\n",
      "  0%|                                                    | 0/30 [00:00<?, ?it/s]\n",
      "  3%|█▍                                          | 1/30 [00:01<00:43,  1.51s/it]\u001b[A\n",
      "  7%|██▉                                         | 2/30 [00:02<00:41,  1.50s/it]\u001b[A\n",
      " 10%|████▍                                       | 3/30 [00:04<00:40,  1.50s/it]\u001b[A\n",
      " 13%|█████▊                                      | 4/30 [00:05<00:38,  1.50s/it]\u001b[A\n",
      " 17%|███████▎                                    | 5/30 [00:07<00:37,  1.50s/it]\u001b[A\n",
      " 20%|████████▊                                   | 6/30 [00:08<00:35,  1.50s/it]\u001b[A\n",
      " 23%|██████████▎                                 | 7/30 [00:10<00:34,  1.50s/it]\u001b[A\n",
      " 27%|███████████▋                                | 8/30 [00:11<00:32,  1.50s/it]\u001b[A\n",
      " 30%|█████████████▏                              | 9/30 [00:13<00:31,  1.50s/it]\u001b[A\n",
      " 33%|██████████████▎                            | 10/30 [00:14<00:29,  1.50s/it]\u001b[A\n",
      " 37%|███████████████▊                           | 11/30 [00:16<00:28,  1.50s/it]\u001b[A\n",
      " 40%|█████████████████▏                         | 12/30 [00:17<00:26,  1.50s/it]\u001b[A\n",
      " 43%|██████████████████▋                        | 13/30 [00:19<00:25,  1.50s/it]\u001b[A\n",
      " 47%|████████████████████                       | 14/30 [00:20<00:23,  1.50s/it]\u001b[A\n",
      " 50%|█████████████████████▌                     | 15/30 [00:22<00:22,  1.49s/it]\u001b[A\n",
      " 53%|██████████████████████▉                    | 16/30 [00:23<00:20,  1.50s/it]\u001b[A\n",
      " 57%|████████████████████████▎                  | 17/30 [00:25<00:19,  1.50s/it]\u001b[A\n",
      " 60%|█████████████████████████▊                 | 18/30 [00:26<00:17,  1.50s/it]\u001b[A\n",
      " 63%|███████████████████████████▏               | 19/30 [00:28<00:16,  1.49s/it]\u001b[A\n",
      " 67%|████████████████████████████▋              | 20/30 [00:29<00:14,  1.49s/it]\u001b[A\n",
      " 70%|██████████████████████████████             | 21/30 [00:31<00:13,  1.49s/it]\u001b[A\n",
      " 73%|███████████████████████████████▌           | 22/30 [00:32<00:11,  1.50s/it]\u001b[A\n",
      " 77%|████████████████████████████████▉          | 23/30 [00:34<00:10,  1.49s/it]\u001b[A\n",
      " 80%|██████████████████████████████████▍        | 24/30 [00:35<00:08,  1.50s/it]\u001b[A\n",
      " 83%|███████████████████████████████████▊       | 25/30 [00:37<00:07,  1.50s/it]\u001b[A\n",
      " 87%|█████████████████████████████████████▎     | 26/30 [00:38<00:05,  1.50s/it]\u001b[A\n",
      " 90%|██████████████████████████████████████▋    | 27/30 [00:40<00:04,  1.49s/it]\u001b[A\n",
      " 93%|████████████████████████████████████████▏  | 28/30 [00:41<00:02,  1.49s/it]\u001b[A\n",
      " 97%|█████████████████████████████████████████▌ | 29/30 [00:43<00:01,  1.50s/it]\u001b[A\n",
      "100%|███████████████████████████████████████████| 30/30 [00:44<00:00,  1.50s/it]\u001b[A\n",
      "mediapipe: \u001b[1;36m1\u001b[0m detected.\n",
      " 69%|██████████████████████████████▍             | 9/13 [00:02<00:00,  4.07it/s]"
     ]
    }
   ],
   "source": [
    "# ⭐ 実行 ##############################################\n",
    "%cd /home/studio-lab-user/content/stable-diffusion-webui\n",
    "\n",
    "!sed -i -e '''/    prepare_environment()/a\\    os.system\\(f\\\"\"\"sed -i -e ''\\\"s/dict()))/dict())).cuda()/g\\\"'' /home/studio-lab-user/content/stable-diffusion-webui/repositories/stable-diffusion-stability-ai/ldm/util.py\"\"\")''' /home/studio-lab-user/content/stable-diffusion-webui/launch.py\n",
    "!sed -i -e 's/\\\"sd_model_checkpoint\\\"\\,/\\\"sd_model_checkpoint\\,sd_vae\\,CLIP_stop_at_last_layers\\\"\\,/g' /home/studio-lab-user/content/stable-diffusion-webui/modules/shared.py\n",
    "\n",
    "!python launch.py --listen --xformers --enable-insecure-extension-access --theme dark --gradio-queue --ngrok \"2SOs8DsoZvkiDNBFjisetiIZJqu_7XBuj79rA4yeX3Bxas3Dc\""
   ]
  }
 ],
 "metadata": {
  "accelerator": "GPU",
  "colab": {
   "collapsed_sections": [],
   "private_outputs": true,
   "provenance": []
  },
  "gpuClass": "standard",
  "kernelspec": {
   "display_name": "default:Python",
   "language": "python",
   "name": "conda-env-default-py"
  },
  "language_info": {
   "codemirror_mode": {
    "name": "ipython",
    "version": 3
   },
   "file_extension": ".py",
   "mimetype": "text/x-python",
   "name": "python",
   "nbconvert_exporter": "python",
   "pygments_lexer": "ipython3",
   "version": "3.9.16"
  },
  "vscode": {
   "interpreter": {
    "hash": "e593ac106456af50ce7af38f9671c411b49d6cd90f9b885e167f0f594e09038c"
   }
  }
 },
 "nbformat": 4,
 "nbformat_minor": 4
}
